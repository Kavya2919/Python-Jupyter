{
 "cells": [
  {
   "cell_type": "markdown",
   "id": "74c02d05",
   "metadata": {},
   "source": [
    "# File Handling in python"
   ]
  },
  {
   "cell_type": "markdown",
   "id": "509abb34",
   "metadata": {},
   "source": [
    "Opening a File:\n",
    "You can use the open() function to open a file. \n",
    "The open() function takes two arguments: the file name and the mode."
   ]
  },
  {
   "cell_type": "code",
   "execution_count": null,
   "id": "d48de19b",
   "metadata": {},
   "outputs": [],
   "source": [
    "# Opening a file in read mode\n",
    "file_path = 'example.txt'\n",
    "file = open(file_path, 'r')  # 'r' stands for read mode\n",
    "\n",
    "# Opening a file in write mode\n",
    "file = open('example.txt', 'w')  # 'w' stands for write mode\n",
    "\n",
    "# Opening a file in append mode\n",
    "file = open('example.txt', 'a')  # 'a' stands for append mode\n"
   ]
  },
  {
   "cell_type": "markdown",
   "id": "826da3b3",
   "metadata": {},
   "source": [
    "# Reading from a File:\n",
    "You can use various methods to read from a file. Common methods include read(), readline(), and readlines()."
   ]
  },
  {
   "cell_type": "code",
   "execution_count": null,
   "id": "f37f2824",
   "metadata": {},
   "outputs": [],
   "source": [
    "# Reading the entire file\n",
    "content = file.read()\n",
    "\n",
    "# Reading a single line\n",
    "line = file.readline()\n",
    "\n",
    "# Reading all lines into a list\n",
    "lines = file.readlines()"
   ]
  },
  {
   "cell_type": "markdown",
   "id": "e4f17b30",
   "metadata": {},
   "source": [
    "# Writing to a File:\n",
    "You can use the write() method to write to a file."
   ]
  },
  {
   "cell_type": "code",
   "execution_count": null,
   "id": "87dd68f3",
   "metadata": {},
   "outputs": [],
   "source": [
    "# Writing a single line to a file\n",
    "file.write('This is a new line.')\n",
    "\n",
    "# Writing multiple lines to a file\n",
    "file.writelines(['Line 1\\n', 'Line 2\\n', 'Line 3\\n'])\n"
   ]
  },
  {
   "cell_type": "markdown",
   "id": "67fadbb1",
   "metadata": {},
   "source": [
    "# Closing a File:\n",
    "It's essential to close a file after working with it using the close() method."
   ]
  },
  {
   "cell_type": "code",
   "execution_count": null,
   "id": "0c38e8e9",
   "metadata": {},
   "outputs": [],
   "source": [
    "file.close()\n"
   ]
  },
  {
   "cell_type": "markdown",
   "id": "59934450",
   "metadata": {},
   "source": [
    "# Using with Statement (Recommended):\n",
    "The with statement is recommended when working with files. It ensures that the file is properly closed even if an error occurs."
   ]
  },
  {
   "cell_type": "markdown",
   "id": "18ecb634",
   "metadata": {},
   "source": [
    " # File is automatically closed when exiting the 'with' block"
   ]
  },
  {
   "cell_type": "code",
   "execution_count": null,
   "id": "75bd760e",
   "metadata": {},
   "outputs": [],
   "source": [
    "file_path = 'example.txt'\n",
    "\n",
    "# Reading from a file using 'with'\n",
    "with open(file_path, 'r') as file:\n",
    "    content = file.read()\n",
    "    print(content)  # File is automatically closed when exiting the 'with' block\n"
   ]
  },
  {
   "cell_type": "markdown",
   "id": "08b7cf81",
   "metadata": {},
   "source": [
    "# Handling Exceptions:\n",
    "When working with files, it's a good practice to handle exceptions, especially when opening or closing files."
   ]
  },
  {
   "cell_type": "code",
   "execution_count": null,
   "id": "ad674ebd",
   "metadata": {},
   "outputs": [],
   "source": [
    "try:\n",
    "    file = open('example.txt', 'r')\n",
    "    content = file.read()\n",
    "    # process content\n",
    "except FileNotFoundError:\n",
    "    print(\"File not found.\")\n",
    "except Exception as e:\n",
    "    print(f\"Error: {e}\")\n",
    "finally:\n",
    "    if 'file' in locals() and not file.closed:\n",
    "        file.close()\n"
   ]
  },
  {
   "cell_type": "markdown",
   "id": "113dc664",
   "metadata": {},
   "source": [
    "# Example: Reading and Writing Files:"
   ]
  },
  {
   "cell_type": "code",
   "execution_count": null,
   "id": "51346485",
   "metadata": {},
   "outputs": [],
   "source": [
    "file_path = 'example.txt'\n",
    "\n",
    "# Writing to a file\n",
    "with open(file_path, 'w') as file:\n",
    "    file.write('Hello, World!\\n')\n",
    "    file.write('This is a new line.')\n",
    "\n",
    "# Reading from a file\n",
    "with open(file_path, 'r') as file:\n",
    "    content = file.read()\n",
    "    print(content)\n"
   ]
  },
  {
   "cell_type": "markdown",
   "id": "fa4e231f",
   "metadata": {},
   "source": [
    "Write python code to read the table name and search that in Report details file."
   ]
  },
  {
   "cell_type": "code",
   "execution_count": null,
   "id": "62e64ba4",
   "metadata": {},
   "outputs": [],
   "source": [
    "def search_table_in_report(table_name, report_details_file):\n",
    "    try:\n",
    "        # Open the report details file\n",
    "        with open(report_details_file, 'r') as file:\n",
    "            # Read the contents of the file\n",
    "            report_details = file.read()\n",
    "\n",
    "            # Search for the table name in the report details\n",
    "            if table_name in report_details:\n",
    "                print(f\"Table '{table_name}' found in the report details.\")\n",
    "            else:\n",
    "                print(f\"Table '{table_name}' not found in the report details.\")\n",
    "\n",
    "    except FileNotFoundError:\n",
    "        print(f\"Error: File '{report_details_file}' not found.\")\n",
    "    except Exception as e:\n",
    "        print(f\"Error: {e}\")\n",
    "\n",
    "# Example usage\n",
    "table_name_to_search = \"YourTableName\"\n",
    "report_details_file_path = \"path/to/your/report_details.txt\"\n",
    "search_table_in_report(table_name_to_search, report_details_file_path)\n"
   ]
  },
  {
   "cell_type": "code",
   "execution_count": null,
   "id": "8cde931c",
   "metadata": {},
   "outputs": [],
   "source": [
    "Write python code to write the table name and search that in Report details file."
   ]
  },
  {
   "cell_type": "code",
   "execution_count": null,
   "id": "77369065",
   "metadata": {},
   "outputs": [],
   "source": [
    "def write_table_name_to_file(table_name, output_file):\n",
    "    try:\n",
    "        with open(output_file, 'w') as file:\n",
    "            file.write(table_name)\n",
    "        print(f\"Table name '{table_name}' written to '{output_file}'.\")\n",
    "    except Exception as e:\n",
    "        print(f\"Error writing to file: {e}\")\n",
    "\n",
    "def search_table_in_report(table_name, report_details_file):\n",
    "    try:\n",
    "        with open(report_details_file, 'r') as file:\n",
    "            report_details = file.read()\n",
    "            if table_name in report_details:\n",
    "                print(f\"Table '{table_name}' found in the report details.\")\n",
    "            else:\n",
    "                print(f\"Table '{table_name}' not found in the report details.\")\n",
    "    except FileNotFoundError:\n",
    "        print(f\"Error: File '{report_details_file}' not found.\")\n",
    "    except Exception as e:\n",
    "        print(f\"Error reading file: {e}\")\n",
    "\n",
    "# Example usage\n",
    "table_name_to_write = \"YourTableName\"\n",
    "output_file_path = \"path/to/your/output_file.txt\"\n",
    "report_details_file_path = \"path/to/your/report_details.txt\"\n",
    "\n",
    "# Write table name to a file\n",
    "write_table_name_to_file(table_name_to_write, output_file_path)\n",
    "\n",
    "# Search for the table name in the report details file\n",
    "search_table_in_report(table_name_to_write, report_details_file_path)\n"
   ]
  },
  {
   "cell_type": "markdown",
   "id": "c06a9c67",
   "metadata": {},
   "source": [
    "Replace \"YourTableName\" with the actual table name you want to write and search for. Also, provide the correct file paths for output_file_path and report_details_file_path.\n",
    "\n",
    "-->This script consists of two functions:\n",
    "\n",
    "-->write_table_name_to_file: Writes the given table name to a specified output file.\n",
    "-->search_table_in_report: Searches for a given table name in the \"Report details\" file.\n",
    "\n",
    "The example usage section demonstrates how to use these functions."
   ]
  }
 ],
 "metadata": {
  "kernelspec": {
   "display_name": "Python 3 (ipykernel)",
   "language": "python",
   "name": "python3"
  },
  "language_info": {
   "codemirror_mode": {
    "name": "ipython",
    "version": 3
   },
   "file_extension": ".py",
   "mimetype": "text/x-python",
   "name": "python",
   "nbconvert_exporter": "python",
   "pygments_lexer": "ipython3",
   "version": "3.11.5"
  }
 },
 "nbformat": 4,
 "nbformat_minor": 5
}
