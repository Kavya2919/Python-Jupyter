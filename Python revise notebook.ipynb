{
 "cells": [
  {
   "cell_type": "markdown",
   "id": "22d34f18",
   "metadata": {},
   "source": [
    "# https://www.geeksforgeeks.org/python-3-basics/?ref=lbp"
   ]
  },
  {
   "cell_type": "markdown",
   "id": "5a985a9b",
   "metadata": {},
   "source": [
    "# https://www.geeksforgeeks.org/python-programming-language/#Modules%20in%20Python"
   ]
  },
  {
   "cell_type": "markdown",
   "id": "ca7c5914",
   "metadata": {},
   "source": [
    "# Find the Length of a List in Python\n",
    "Below are the methods that we will cover in this article:\n",
    "\n",
    "Using len() method\n",
    "Using sum() function\n",
    "Using for loop\n",
    "Using the length_hint() method"
   ]
  },
  {
   "cell_type": "code",
   "execution_count": 5,
   "id": "d0bc463a",
   "metadata": {},
   "outputs": [
    {
     "name": "stdout",
     "output_type": "stream",
     "text": [
      "The length of list is:  4\n"
     ]
    }
   ],
   "source": [
    "# Python program to demonstrate working of len()\n",
    "a = []\n",
    "a.append(\"Hello\")\n",
    "a.append(\"Geeks\")\n",
    "a.append(\"For\")\n",
    "a.append(\"Geeks\")\n",
    "print(\"The length of list is: \", len(a))\n"
   ]
  },
  {
   "cell_type": "markdown",
   "id": "1b255ab6",
   "metadata": {},
   "source": [
    "# Find the length of a list using the sum() function\n",
    "Another approach is to use the built-in sum() function in combination with a generator expression. This allows you to find the size of a list by summing the number of elements in the list that meet a certain condition."
   ]
  },
  {
   "cell_type": "code",
   "execution_count": 6,
   "id": "daa9f163",
   "metadata": {},
   "outputs": [
    {
     "name": "stdout",
     "output_type": "stream",
     "text": [
      "6\n"
     ]
    }
   ],
   "source": [
    "# list of numbers\n",
    "numbers = [1, 2, 3, 1, 2, 3]\n",
    "\n",
    "# find the size of the list\n",
    "size = sum(1 for num in numbers)\n",
    "\n",
    "# print the size of the list\n",
    "print(size)\n"
   ]
  },
  {
   "cell_type": "markdown",
   "id": "d60be571",
   "metadata": {},
   "source": [
    "# Find the length of the list using for loop"
   ]
  },
  {
   "cell_type": "markdown",
   "id": "9b50b1a3",
   "metadata": {},
   "source": [
    "lst = [1,1,2,5,1,5,2,4,5]\n",
    "count = 0\n",
    "for i in lst:\n",
    "    count += 1\n",
    "print(\"The length of the lst is :\",count)\n"
   ]
  },
  {
   "cell_type": "markdown",
   "id": "4aa35414",
   "metadata": {},
   "source": [
    "# Find the size of the list using the length_hint() method"
   ]
  },
  {
   "cell_type": "code",
   "execution_count": 11,
   "id": "271f005b",
   "metadata": {},
   "outputs": [
    {
     "name": "stdout",
     "output_type": "stream",
     "text": [
      "The size of the size lst: 3\n"
     ]
    }
   ],
   "source": [
    "from operator import length_hint\n",
    "\n",
    "lst = ['Geeks', 'For', 'Geeks']\n",
    "size = length_hint(lst)\n",
    "print('The size of the size lst:',size)\n"
   ]
  },
  {
   "cell_type": "markdown",
   "id": "e1c5808d",
   "metadata": {},
   "source": [
    "# What Is Difference Between Del, Remove and Pop on Python Lists?"
   ]
  },
  {
   "cell_type": "markdown",
   "id": "12ecec52",
   "metadata": {},
   "source": [
    "del list_name[index]  # To delete single value\n",
    "del list_name        # To delete whole list\n"
   ]
  },
  {
   "cell_type": "code",
   "execution_count": 12,
   "id": "7edc956b",
   "metadata": {},
   "outputs": [
    {
     "name": "stdout",
     "output_type": "stream",
     "text": [
      "[1, 2, 2, 3, 4, 5]\n"
     ]
    }
   ],
   "source": [
    "# program to demonstrate use of del keyword \n",
    "\n",
    "# assign list \n",
    "numbers = [1, 2, 3, 2, 3, 4, 5] \n",
    "\n",
    "# use del \n",
    "del numbers[2] \n",
    "print(numbers) \n"
   ]
  },
  {
   "cell_type": "markdown",
   "id": "2e448072",
   "metadata": {},
   "source": [
    "remove() Method:\n",
    "The remove() method removes the first matching value from the list.\n",
    "\n",
    "Syntax:\n",
    "\n",
    "list_name.remove(value)"
   ]
  },
  {
   "cell_type": "code",
   "execution_count": 13,
   "id": "4476266f",
   "metadata": {},
   "outputs": [
    {
     "name": "stdout",
     "output_type": "stream",
     "text": [
      "[1, 2, 2, 3, 4, 5]\n"
     ]
    }
   ],
   "source": [
    "# program to demonstrate use of remove() method \n",
    "\n",
    "# assign list \n",
    "numbers = [1, 2, 3, 2, 3, 4, 5] \n",
    "\n",
    "# use remove() \n",
    "numbers.remove(3) \n",
    "\n",
    "# display list \n",
    "print(numbers) "
   ]
  },
  {
   "cell_type": "markdown",
   "id": "dd170533",
   "metadata": {},
   "source": [
    "pop() Method:\n",
    "The pop() method like del deletes value at a particular index. But pop() method returns deleted value from the list.\n",
    "\n",
    "Syntax:\n",
    "\n",
    "list_name.pop(index)"
   ]
  },
  {
   "cell_type": "code",
   "execution_count": 15,
   "id": "df4b0b39",
   "metadata": {},
   "outputs": [
    {
     "name": "stdout",
     "output_type": "stream",
     "text": [
      "[1, 2, 3, 3, 4, 5]\n"
     ]
    }
   ],
   "source": [
    "# program to demonstrate use of pop() method \n",
    "\n",
    "# assign list \n",
    "numbers = [1, 2, 3, 2, 3, 4, 5] \n",
    "\n",
    "# use remove() \n",
    "numbers.pop(3) \n",
    "\n",
    "# display list \n",
    "print(numbers) "
   ]
  },
  {
   "cell_type": "markdown",
   "id": "cf2fb467",
   "metadata": {},
   "source": [
    "# Python program to illustrate \n",
    "# function with main"
   ]
  },
  {
   "cell_type": "code",
   "execution_count": 22,
   "id": "10e1fb1c",
   "metadata": {},
   "outputs": [
    {
     "name": "stdout",
     "output_type": "stream",
     "text": [
      "Enter integer: 45\n",
      "45\n",
      "Started\n"
     ]
    }
   ],
   "source": [
    "def getInteger():\n",
    "    result = int(input(\"Enter integer: \")) \n",
    "    return result \n",
    "\n",
    "def Main(): \n",
    "    print(\"Started\") \n",
    "\n",
    "# calling the getInteger function and \n",
    "# storing its returned value in the output variable \n",
    "output = getInteger()\t \n",
    "print(output) \n",
    "\n",
    "# now we are required to tell Python \n",
    "# for 'Main' function existence \n",
    "if __name__==\"__main__\": \n",
    "    Main()\n"
   ]
  },
  {
   "cell_type": "markdown",
   "id": "7d964197",
   "metadata": {},
   "source": [
    "# Defining and calling a function with parameters"
   ]
  },
  {
   "cell_type": "markdown",
   "id": "4e60cfa0",
   "metadata": {},
   "source": [
    "def function_name(parameter: data_type) -> return_type:\n",
    "    \"\"\"Docstring\"\"\"\n",
    "    # body of the function\n",
    "    return expression"
   ]
  },
  {
   "cell_type": "code",
   "execution_count": 36,
   "id": "7a648f09",
   "metadata": {},
   "outputs": [
    {
     "name": "stdout",
     "output_type": "stream",
     "text": [
      "The addition of 5 and 15 results 20.\n"
     ]
    }
   ],
   "source": [
    "num3 = 0\n",
    " \n",
    "def add(num1: int, num2: int) -> int:\n",
    "    \"\"\"Add two numbers\"\"\"\n",
    "    global num3\n",
    "    num3 = num1 + num2\n",
    "    return num3\n",
    " \n",
    "# Driver code\n",
    "num1, num2 = 5, 15\n",
    "ans = add(num1, num2)\n",
    "print(f\"The addition of {num1} and {num2} results {num3}.\")"
   ]
  },
  {
   "cell_type": "code",
   "execution_count": 37,
   "id": "0c5c6930",
   "metadata": {},
   "outputs": [
    {
     "name": "stdout",
     "output_type": "stream",
     "text": [
      "False True\n"
     ]
    }
   ],
   "source": [
    "# some more functions\n",
    "def is_prime(n):\n",
    "\tif n in [2, 3]:\n",
    "\t\treturn True\n",
    "\tif (n == 1) or (n % 2 == 0):\n",
    "\t\treturn False\n",
    "\tr = 3\n",
    "\twhile r * r <= n:\n",
    "\t\tif n % r == 0:\n",
    "\t\t\treturn False\n",
    "\t\tr += 2\n",
    "\treturn True\n",
    "print(is_prime(78), is_prime(79))\n"
   ]
  },
  {
   "cell_type": "code",
   "execution_count": 38,
   "id": "0a901afe",
   "metadata": {},
   "outputs": [
    {
     "name": "stdout",
     "output_type": "stream",
     "text": [
      "even\n",
      "odd\n"
     ]
    }
   ],
   "source": [
    "# A simple Python function to check\n",
    "# whether x is even or odd\n",
    "def evenOdd(x):\n",
    "\tif (x % 2 == 0):\n",
    "\t\tprint(\"even\")\n",
    "\telse:\n",
    "\t\tprint(\"odd\")\n",
    "\n",
    "\n",
    "# Driver code to call the function\n",
    "evenOdd(2)\n",
    "evenOdd(3)\n"
   ]
  },
  {
   "cell_type": "code",
   "execution_count": 39,
   "id": "bd01b7e4",
   "metadata": {},
   "outputs": [
    {
     "name": "stdout",
     "output_type": "stream",
     "text": [
      "x:  10\n",
      "y:  50\n"
     ]
    }
   ],
   "source": [
    "# Python program to demonstrate\n",
    "# default arguments\n",
    "def myFun(x, y=50):\n",
    "\tprint(\"x: \", x)\n",
    "\tprint(\"y: \", y)\n",
    "\n",
    "\n",
    "# Driver code (We call myFun() with only\n",
    "# argument)\n",
    "myFun(10)\n"
   ]
  },
  {
   "cell_type": "markdown",
   "id": "b5f9e132",
   "metadata": {},
   "source": [
    "Positional Arguments"
   ]
  },
  {
   "cell_type": "code",
   "execution_count": 40,
   "id": "c3adc138",
   "metadata": {},
   "outputs": [
    {
     "name": "stdout",
     "output_type": "stream",
     "text": [
      "Case-1:\n",
      "Hi, I am Suraj\n",
      "My age is  27\n",
      "\n",
      "Case-2:\n",
      "Hi, I am 27\n",
      "My age is  Suraj\n"
     ]
    }
   ],
   "source": [
    "def nameAge(name, age):\n",
    "\tprint(\"Hi, I am\", name)\n",
    "\tprint(\"My age is \", age)\n",
    "\n",
    "\n",
    "# You will get correct output because \n",
    "# argument is given in order\n",
    "print(\"Case-1:\")\n",
    "nameAge(\"Suraj\", 27)\n",
    "# You will get incorrect output because\n",
    "# argument is not in order\n",
    "print(\"\\nCase-2:\")\n",
    "nameAge(27, \"Suraj\")\n"
   ]
  },
  {
   "cell_type": "markdown",
   "id": "4f456daf",
   "metadata": {},
   "source": [
    "# Arbitrary Keyword  Arguments\n",
    "In Python Arbitrary Keyword Arguments, *args, and **kwargs can pass a variable number of arguments to a function using special symbols. There are two special symbols:\n",
    "\n",
    "*args in Python (Non-Keyword Arguments)\n",
    "**kwargs in Python (Keyword Arguments)"
   ]
  },
  {
   "cell_type": "markdown",
   "id": "f74c780c",
   "metadata": {},
   "source": [
    "Example 1: Variable length non-keywords argument"
   ]
  },
  {
   "cell_type": "code",
   "execution_count": 41,
   "id": "dd7fa35e",
   "metadata": {},
   "outputs": [
    {
     "name": "stdout",
     "output_type": "stream",
     "text": [
      "Hello\n",
      "Welcome\n",
      "to\n",
      "GeeksforGeeks\n"
     ]
    }
   ],
   "source": [
    "# Python program to illustrate\n",
    "# *args for variable number of arguments\n",
    "def myFun(*argv):\n",
    "\tfor arg in argv:\n",
    "\t\tprint(arg)\n",
    "\n",
    "\n",
    "myFun('Hello', 'Welcome', 'to', 'GeeksforGeeks')\n"
   ]
  },
  {
   "cell_type": "markdown",
   "id": "b0309ecf",
   "metadata": {},
   "source": [
    "Example 2: Variable length keyword arguments"
   ]
  },
  {
   "cell_type": "code",
   "execution_count": 42,
   "id": "80ecba4e",
   "metadata": {},
   "outputs": [
    {
     "name": "stdout",
     "output_type": "stream",
     "text": [
      "first == Geeks\n",
      "mid == for\n",
      "last == Geeks\n"
     ]
    }
   ],
   "source": [
    "# Python program to illustrate\n",
    "# *kwargs for variable number of keyword arguments\n",
    "\n",
    "\n",
    "def myFun(**kwargs):\n",
    "\tfor key, value in kwargs.items():\n",
    "\t\tprint(\"%s == %s\" % (key, value))\n",
    "\n",
    "\n",
    "# Driver code\n",
    "myFun(first='Geeks', mid='for', last='Geeks')\n"
   ]
  },
  {
   "cell_type": "markdown",
   "id": "787c97ea",
   "metadata": {},
   "source": [
    "# Python Function within Functions"
   ]
  },
  {
   "cell_type": "code",
   "execution_count": 43,
   "id": "c75a33ec",
   "metadata": {},
   "outputs": [
    {
     "name": "stdout",
     "output_type": "stream",
     "text": [
      "I love GeeksforGeeks\n"
     ]
    }
   ],
   "source": [
    "# Python program to\n",
    "# demonstrate accessing of\n",
    "# variables of nested functions\n",
    "\n",
    "def f1():\n",
    "\ts = 'I love GeeksforGeeks'\n",
    "\t\n",
    "\tdef f2():\n",
    "\t\tprint(s)\n",
    "\t\t\n",
    "\tf2()\n",
    "\n",
    "# Driver's code\n",
    "f1()\n"
   ]
  },
  {
   "cell_type": "markdown",
   "id": "310f3875",
   "metadata": {},
   "source": [
    "# Anonymous Functions in Python"
   ]
  },
  {
   "cell_type": "markdown",
   "id": "705a58d2",
   "metadata": {},
   "source": [
    "An anonymous function means that a function is without a name. As we already know the def keyword is used to define the normal functions and the lambda keyword is used to create anonymous functions."
   ]
  },
  {
   "cell_type": "code",
   "execution_count": 44,
   "id": "7e9296e9",
   "metadata": {},
   "outputs": [
    {
     "name": "stdout",
     "output_type": "stream",
     "text": [
      "343\n",
      "343\n"
     ]
    }
   ],
   "source": [
    "# Python code to illustrate the cube of a number\n",
    "# using lambda function\n",
    "def cube(x): return x*x*x\n",
    "\n",
    "cube_v2 = lambda x : x*x*x\n",
    "\n",
    "print(cube(7))\n",
    "print(cube_v2(7))\n"
   ]
  },
  {
   "cell_type": "markdown",
   "id": "1a97600c",
   "metadata": {},
   "source": [
    "# Pass by Reference and Pass by Value\n",
    "One important thing to note is, in Python every variable name is a reference. When we pass a variable to a function, a new reference to the object is created. Parameter passing in Python is the same as reference passing in Java."
   ]
  },
  {
   "cell_type": "code",
   "execution_count": 45,
   "id": "c26dd36f",
   "metadata": {},
   "outputs": [
    {
     "name": "stdout",
     "output_type": "stream",
     "text": [
      "[20, 11, 12, 13, 14, 15]\n"
     ]
    }
   ],
   "source": [
    "# Here x is a new reference to same list lst\n",
    "def myFun(x):\n",
    "\tx[0] = 20\n",
    "\n",
    "\n",
    "# Driver Code (Note that lst is modified\n",
    "# after function call.\n",
    "lst = [10, 11, 12, 13, 14, 15]\n",
    "myFun(lst)\n",
    "print(lst)\n"
   ]
  },
  {
   "cell_type": "code",
   "execution_count": 46,
   "id": "c2f55811",
   "metadata": {},
   "outputs": [
    {
     "name": "stdout",
     "output_type": "stream",
     "text": [
      "[10, 11, 12, 13, 14, 15]\n"
     ]
    }
   ],
   "source": [
    "def myFun(x):\n",
    "\n",
    "\t# After below line link of x with previous\n",
    "\t# object gets broken. A new object is assigned\n",
    "\t# to x.\n",
    "\tx = [20, 30, 40]\n",
    "\n",
    "\n",
    "# Driver Code (Note that lst is not modified\n",
    "# after function call.\n",
    "lst = [10, 11, 12, 13, 14, 15]\n",
    "myFun(lst)\n",
    "print(lst)\n"
   ]
  },
  {
   "cell_type": "markdown",
   "id": "3b709d84",
   "metadata": {},
   "source": [
    "# Difference between Method and Function in Python"
   ]
  },
  {
   "cell_type": "markdown",
   "id": "b9258310",
   "metadata": {},
   "source": [
    "Python Method\n",
    "\n",
    "Method is called by its name, but it is associated to an object (dependent).\n",
    "A method definition always includes ‘self’ as its first parameter.\n",
    "A method is implicitly passed to the object on which it is invoked.\n",
    "It may or may not return any data.\n",
    "A method can operate on the data (instance variables) that is contained by the corresponding class\n",
    "Basic Method Structure in Python : "
   ]
  },
  {
   "cell_type": "markdown",
   "id": "5c0e01a5",
   "metadata": {},
   "source": [
    "Python Method\n",
    "\n",
    "Method is called by its name, but it is associated to an object (dependent).\n",
    "A method definition always includes ‘self’ as its first parameter.\n",
    "A method is implicitly passed to the object on which it is invoked.\n",
    "It may or may not return any data.\n",
    "A method can operate on the data (instance variables) that is contained by the corresponding class\n",
    "\n",
    "Basic Method Structure in Python : "
   ]
  },
  {
   "cell_type": "code",
   "execution_count": 48,
   "id": "4ee9e7c2",
   "metadata": {},
   "outputs": [
    {
     "ename": "SyntaxError",
     "evalue": "expected ':' (3116217764.py, line 2)",
     "output_type": "error",
     "traceback": [
      "\u001b[1;36m  Cell \u001b[1;32mIn[48], line 2\u001b[1;36m\u001b[0m\n\u001b[1;33m    class class_name\u001b[0m\n\u001b[1;37m                    ^\u001b[0m\n\u001b[1;31mSyntaxError\u001b[0m\u001b[1;31m:\u001b[0m expected ':'\n"
     ]
    }
   ],
   "source": [
    "# Basic Python method \n",
    "class class_name\n",
    "\tdef method_name () :\n",
    "\t\t......\n",
    "\t\t# method body\n",
    "\t\t...... \n"
   ]
  },
  {
   "cell_type": "markdown",
   "id": "a8332f74",
   "metadata": {},
   "source": [
    "Python 3 User-Defined Method : "
   ]
  },
  {
   "cell_type": "code",
   "execution_count": 49,
   "id": "0e09b81c",
   "metadata": {},
   "outputs": [
    {
     "name": "stdout",
     "output_type": "stream",
     "text": [
      "I am in method_abc of ABC class. \n"
     ]
    }
   ],
   "source": [
    "# Python 3 User-Defined Method\n",
    "class ABC :\n",
    "\tdef method_abc (self):\n",
    "\t\tprint(\"I am in method_abc of ABC class. \")\n",
    "\n",
    "class_ref = ABC() # object of ABC class\n",
    "class_ref.method_abc()\n"
   ]
  },
  {
   "cell_type": "markdown",
   "id": "e44736a7",
   "metadata": {},
   "source": [
    "Python 3 Inbuilt method : "
   ]
  },
  {
   "cell_type": "code",
   "execution_count": 50,
   "id": "e8b42a34",
   "metadata": {},
   "outputs": [
    {
     "name": "stdout",
     "output_type": "stream",
     "text": [
      "Ceiling value of 15.25 is :  16\n"
     ]
    }
   ],
   "source": [
    "import math\n",
    "\n",
    "ceil_val = math.ceil(15.25)\n",
    "print( \"Ceiling value of 15.25 is : \", ceil_val) \n"
   ]
  },
  {
   "cell_type": "markdown",
   "id": "2712959c",
   "metadata": {},
   "source": [
    "Functions\n",
    "\n",
    "Function is block of code that is also called by its name. (independent)\n",
    "The function can have different parameters or may not have any at all. If any data (parameters) are passed, they are passed explicitly.\n",
    "It may or may not return any data.\n",
    "Function does not deal with Class and its instance concept.\n",
    "\n",
    "Basic Function Structure in Python : "
   ]
  },
  {
   "cell_type": "code",
   "execution_count": null,
   "id": "ad7cd459",
   "metadata": {},
   "outputs": [],
   "source": [
    "def function_name ( arg1, arg2, ...) :\n",
    "\t......\n",
    "\t# function body\n",
    "\t...... \n"
   ]
  },
  {
   "cell_type": "markdown",
   "id": "e1ad2de7",
   "metadata": {},
   "source": [
    "Python 3 User-Defined Function : "
   ]
  },
  {
   "cell_type": "code",
   "execution_count": null,
   "id": "fe539088",
   "metadata": {},
   "outputs": [],
   "source": [
    "def Subtract (a, b):\n",
    "\treturn (a-b)\n",
    "\n",
    "print( Subtract(10, 12) ) # prints -2\n",
    "\n",
    "print( Subtract(15, 6) ) # prints 9\n"
   ]
  },
  {
   "cell_type": "markdown",
   "id": "7afd390a",
   "metadata": {},
   "source": [
    "Python 3 Inbuilt Function : "
   ]
  },
  {
   "cell_type": "code",
   "execution_count": 51,
   "id": "f805e8f3",
   "metadata": {},
   "outputs": [
    {
     "name": "stdout",
     "output_type": "stream",
     "text": [
      "22\n",
      "15\n"
     ]
    }
   ],
   "source": [
    "s = sum([5, 15, 2])\n",
    "print( s ) # prints 22\n",
    "\n",
    "mx = max(15, 6)\n",
    "print( mx ) # prints 15\n"
   ]
  },
  {
   "cell_type": "markdown",
   "id": "3a92e2ce",
   "metadata": {},
   "source": [
    "Difference between method and function\n",
    "\n",
    "Simply, function and method both look similar as they perform in almost similar way, but the key difference is the concept of ‘Class and its Object‘.\n",
    "Functions can be called only by its name, as it is defined independently. But methods can’t be called by its name only, we need to invoke the class by a reference of that class in which it is defined, i.e. method is defined within a class and hence they are dependent on that class."
   ]
  },
  {
   "cell_type": "markdown",
   "id": "d351a283",
   "metadata": {},
   "source": [
    "# Difference between Method Overloading and Method Overriding in Python"
   ]
  },
  {
   "cell_type": "markdown",
   "id": "149e92a7",
   "metadata": {},
   "source": [
    "Method Overloading: \n",
    "Method Overloading is an example of Compile time polymorphism. In this, more than one method of the same class shares the same method name having different signatures. Method overloading is used to add more to the behavior of methods and there is no need of more than one class for method overloading.\n",
    "\n",
    "Note: Python does not support method overloading. We may overload the methods but can only use the latest defined method."
   ]
  },
  {
   "cell_type": "code",
   "execution_count": null,
   "id": "0c8ee137",
   "metadata": {},
   "outputs": [],
   "source": [
    "# Function to take multiple arguments \n",
    "def add(datatype, *args): \n",
    "\n",
    "\t# if datatype is int \n",
    "\t# initialize answer as 0 \n",
    "\tif datatype =='int': \n",
    "\t\tanswer = 0\n",
    "\t\t\n",
    "\t# if datatype is str \n",
    "\t# initialize answer as '' \n",
    "\tif datatype =='str': \n",
    "\t\tanswer ='' \n",
    "\n",
    "\t# Traverse through the arguments \n",
    "\tfor x in args: \n",
    "\n",
    "\t\t# This will do addition if the \n",
    "\t\t# arguments are int. Or concatenation \n",
    "\t\t# if the arguments are str \n",
    "\t\tanswer = answer + x \n",
    "\n",
    "\tprint(answer) \n",
    "\n",
    "# Integer \n",
    "add('int', 5, 6) \n",
    "\n",
    "# String \n",
    "add('str', 'Hi ', 'Geeks') \n"
   ]
  },
  {
   "cell_type": "markdown",
   "id": "d755a6a0",
   "metadata": {},
   "source": [
    "Method Overriding: \n",
    "\n",
    "Method overriding is an example of run time polymorphism. In this, the specific implementation of the method that is already provided by the parent class is provided by the child class. It is used to change the behavior of existing methods and there is a need for at least two classes for method overriding. In method overriding, inheritance always required as it is done between parent class(superclass) and child class(child class) methods.\n",
    "\n",
    "Example of Method Overriding in python: "
   ]
  },
  {
   "cell_type": "code",
   "execution_count": 52,
   "id": "42111b8a",
   "metadata": {},
   "outputs": [
    {
     "name": "stdout",
     "output_type": "stream",
     "text": [
      "Modified feature_1 of class A by class B\n"
     ]
    }
   ],
   "source": [
    "class A:\n",
    "\n",
    "\tdef fun1(self):\n",
    "\t\tprint('feature_1 of class A')\n",
    "\t\t\n",
    "\tdef fun2(self):\n",
    "\t\tprint('feature_2 of class A')\n",
    "\t\n",
    "\n",
    "class B(A):\n",
    "\t\n",
    "\t# Modified function that is \n",
    "\t# already exist in class A\n",
    "\tdef fun1(self):\n",
    "\t\tprint('Modified feature_1 of class A by class B') \n",
    "\t\t\n",
    "\tdef fun3(self):\n",
    "\t\tprint('feature_3 of class B')\n",
    "\t\t\n",
    "\n",
    "# Create instance\n",
    "obj = B()\n",
    "\t\n",
    "# Call the override function\n",
    "obj.fun1()\n"
   ]
  },
  {
   "cell_type": "markdown",
   "id": "0f0a74d7",
   "metadata": {},
   "source": [
    "# Difference between continue and pass statements in Python"
   ]
  },
  {
   "cell_type": "code",
   "execution_count": 55,
   "id": "9b8e6cbe",
   "metadata": {},
   "outputs": [
    {
     "name": "stdout",
     "output_type": "stream",
     "text": [
      "g\n",
      "e\n",
      "e\n",
      "Pass executed\n",
      "k\n",
      "s\n",
      "\n",
      "g\n",
      "e\n",
      "e\n",
      "Continue executed\n",
      "s\n"
     ]
    }
   ],
   "source": [
    "# Python program to demonstrate\n",
    "# difference between pass and \n",
    "# continue statements\n",
    "\n",
    "s = \"geeks\"\n",
    "\n",
    "# Pass statement\n",
    "for i in s:\n",
    "\tif i == 'k':\n",
    "\t\tprint('Pass executed')\n",
    "\t\tpass\n",
    "\tprint(i)\n",
    "\n",
    "print()\n",
    "\t\n",
    "# Continue statement\n",
    "for i in s:\n",
    "\tif i == 'k':\n",
    "\t\tprint('Continue executed')\n",
    "\t\tcontinue\n",
    "\tprint(i)\n"
   ]
  },
  {
   "cell_type": "code",
   "execution_count": null,
   "id": "fbe8b7c2",
   "metadata": {},
   "outputs": [],
   "source": []
  }
 ],
 "metadata": {
  "kernelspec": {
   "display_name": "Python 3 (ipykernel)",
   "language": "python",
   "name": "python3"
  },
  "language_info": {
   "codemirror_mode": {
    "name": "ipython",
    "version": 3
   },
   "file_extension": ".py",
   "mimetype": "text/x-python",
   "name": "python",
   "nbconvert_exporter": "python",
   "pygments_lexer": "ipython3",
   "version": "3.11.5"
  }
 },
 "nbformat": 4,
 "nbformat_minor": 5
}
